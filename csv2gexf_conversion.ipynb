{
 "cells": [
  {
   "cell_type": "markdown",
   "metadata": {},
   "source": [
    "# From CSV to SigmaJS\n",
    "## Creating a Social Network Graph of the Marvel Universe\n",
    "\n",
    "\n",
    "This notebooks converts a CSV-file containing a information on Co-Occurences of Marvel Superheroes [see data source](https://www.kaggle.com/csanhueza/the-marvel-universe-social-network/code) into a SigmaJS graph.\n",
    "\n",
    "* **Author:** Tim Denzler\n"
   ]
  },
  {
   "cell_type": "code",
   "execution_count": 10,
   "metadata": {},
   "outputs": [
    {
     "name": "stdout",
     "output_type": "stream",
     "text": [
      "The autoreload extension is already loaded. To reload it, use:\n",
      "  %reload_ext autoreload\n"
     ]
    }
   ],
   "source": [
    "%load_ext autoreload\n",
    "%autoreload 2\n",
    "import warnings\n",
    "import csv\n",
    "from tqdm import tqdm\n",
    "from pprint import pprint\n",
    "warnings.filterwarnings('ignore')"
   ]
  },
  {
   "cell_type": "markdown",
   "metadata": {},
   "source": [
    "## Step 1: Create an empty networkx graph"
   ]
  },
  {
   "cell_type": "code",
   "execution_count": 18,
   "metadata": {},
   "outputs": [],
   "source": [
    "import networkx as nx\n",
    "G = nx.DiGraph() #empty networkx graph"
   ]
  },
  {
   "cell_type": "markdown",
   "metadata": {},
   "source": [
    "## Step 2: Read the CSV file and generate the graph"
   ]
  },
  {
   "cell_type": "code",
   "execution_count": 19,
   "metadata": {},
   "outputs": [
    {
     "name": "stderr",
     "output_type": "stream",
     "text": [
      "574467it [00:02, 256006.56it/s]\n"
     ]
    }
   ],
   "source": [
    "with open('./data/hero-network.csv', 'r') as f:\n",
    "    data = csv.reader(f)\n",
    "    headers = next(data)\n",
    "    for row in tqdm(data):\n",
    "        G.add_node(row[0]) #superhero in first column\n",
    "        G.add_node(row[1]) #superhero in second column\n",
    "        if G.has_edge(row[0], row[1]):\n",
    "            # edge already exists, increase weight by one\n",
    "            G[row[0]][row[1]]['weight'] += 1\n",
    "        else:\n",
    "            # add new edge with weight 1\n",
    "            G.add_edge(row[0], row[1], weight = 1)"
   ]
  },
  {
   "cell_type": "code",
   "execution_count": 20,
   "metadata": {},
   "outputs": [
    {
     "name": "stdout",
     "output_type": "stream",
     "text": [
      "Nodes =  6426  Edges =  224181\n"
     ]
    }
   ],
   "source": [
    "G_nodes = G.number_of_nodes()\n",
    "G_edges = G.number_of_edges()\n",
    "print(\"Nodes = \", G_nodes, \" Edges = \",G_edges)"
   ]
  },
  {
   "cell_type": "markdown",
   "metadata": {},
   "source": [
    "## Step 3: Store the graph in gexf-format"
   ]
  },
  {
   "cell_type": "code",
   "execution_count": 21,
   "metadata": {},
   "outputs": [],
   "source": [
    "marvelgraph = nx.write_gexf(G, \"./data/hero-network.gexf\") #save for gephi"
   ]
  }
 ],
 "metadata": {
  "kernelspec": {
   "display_name": "Python 3",
   "language": "python",
   "name": "python3"
  },
  "language_info": {
   "codemirror_mode": {
    "name": "ipython",
    "version": 3
   },
   "file_extension": ".py",
   "mimetype": "text/x-python",
   "name": "python",
   "nbconvert_exporter": "python",
   "pygments_lexer": "ipython3",
   "version": "3.9.2"
  }
 },
 "nbformat": 4,
 "nbformat_minor": 4
}
