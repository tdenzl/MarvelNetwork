{
 "cells": [
  {
   "cell_type": "markdown",
   "metadata": {},
   "source": [
    "# Generating a Citation Network Graph\n",
    "**Author:** Tim Denzler\n",
    "\n",
    "This notebooks converts the previously identified references to .gexf format in order to be able to visualize the citation graph in Gephi."
   ]
  },
  {
   "cell_type": "code",
   "execution_count": 1,
   "metadata": {},
   "outputs": [],
   "source": [
    "%load_ext autoreload\n",
    "%autoreload 2\n",
    "import sys\n",
    "sys.path.insert(0,\"../\")\n",
    "import lib\n",
    "import warnings\n",
    "from tqdm import tqdm\n",
    "\n",
    "from pprint import pprint\n",
    "warnings.filterwarnings('ignore')"
   ]
  },
  {
   "cell_type": "code",
   "execution_count": 2,
   "metadata": {},
   "outputs": [
    {
     "name": "stdout",
     "output_type": "stream",
     "text": [
      "Imported  761  documents from the corpus.\n"
     ]
    }
   ],
   "source": [
    "corpus = []\n",
    "different_language_keys = ['K9KJVYIR','Y4MGKEBB','JE66BNAN','FSP7ANYJ','C7GB4MNG','6BIQJRKD','NRFYP7MT','XTCH9IQV','Q48XB5ZN','I3HDJH54','YPLTERAG','BLPTWEH5']\n",
    "literature_reviews_keys = ['DKBW9ABI','TJMJYHAG', 'BNS43SCZ', 'CMB96B57', 'T96GMF6N', 'AISSN8RV', 'TPQI9BTD', 'GKL3GBBR', '8PUA6WJ3', '9P8AAUVM', '5UHAEFIT','6QXIW79J', 'NI4RMT4H', '4GDNPC75', '927ACLCW', 'B5FK7VNP', 'TU9MYDMI', 'TEQ8MVA5', '6FT5QEXR', '4ZU54FDA', '3YVNNY8Y', 'PHDIVR6K', 'AMA5QADB', 'BPGK8V7N', '34FWNV6J', 'JVMYN4TV', '2C997CVV', 'UIAS2E56', 'MRTEUZPG', 'N7YVDTF2', 'U9UCIP9I', 'I29GGRLL', '7V6GJVRN', 'KT6KZGBB', 'J7ZDC6BP', 'L99VI2FU']\n",
    "\n",
    "for p,paper in enumerate(lib.Paper.objects()):\n",
    "    if paper.pdf_p and paper._relevant_reason != \"Duplicate entry\" and paper._relevant_reason != 'not in English' and paper.key not in different_language_keys: #only import papers that had PDFs\n",
    "        corpus.append(paper)\n",
    "print(\"Imported \", len(corpus), \" documents from the corpus.\")"
   ]
  },
  {
   "cell_type": "code",
   "execution_count": 3,
   "metadata": {},
   "outputs": [],
   "source": [
    "import networkx as nx\n",
    "G = nx.DiGraph()"
   ]
  },
  {
   "cell_type": "code",
   "execution_count": 4,
   "metadata": {},
   "outputs": [],
   "source": [
    "from fuzzywuzzy import fuzz\n",
    "\n",
    "def get_title_string(container_title):\n",
    "    title_string = \"\"\n",
    "    for element in container_title:\n",
    "        title_string += \" \" + element \n",
    "    return title_string[1:]\n",
    "\n",
    "def check_internal(doi,reference_title):\n",
    "    for paper in corpus:\n",
    "        if bool(paper._crossref_entry) == True and paper._crossref_entry['DOI'] == doi:\n",
    "            return paper.key\n",
    "        if fuzz.partial_ratio(paper._title, reference_title)>99:\n",
    "            return paper.key\n",
    "    return None"
   ]
  },
  {
   "cell_type": "code",
   "execution_count": 5,
   "metadata": {},
   "outputs": [],
   "source": [
    "checked_author_dict = dict() #dict of authors already added\n",
    "for paper in corpus: #add all nodes in corpus\n",
    "    if paper._relevant_p == True:\n",
    "        G.add_node(paper.key, label = paper._title, _relevant_reason = paper._relevant_reason, _item_type = paper._item_type, type='paper_relevant')\n",
    "    if paper._relevant_p == False:\n",
    "        G.add_node(paper.key, label = paper._title, _relevant_reason = paper._relevant_reason, _item_type = paper._item_type, type='paper_irrelevant')"
   ]
  },
  {
   "cell_type": "code",
   "execution_count": 6,
   "metadata": {},
   "outputs": [
    {
     "name": "stderr",
     "output_type": "stream",
     "text": [
      "100%|██████████| 761/761 [32:17<00:00,  2.55s/it]  \n"
     ]
    }
   ],
   "source": [
    "for paper in tqdm(corpus): #add all nodes from external references and double check if internal, then add edges\n",
    "    title = paper._title\n",
    "    key = paper.key\n",
    "    item_type = paper._item_type\n",
    "    if paper._external_references is not None:\n",
    "        for reference in paper._external_references:\n",
    "            reference_title = \"\"\n",
    "            if 'title' not in reference:\n",
    "                if 'container-title' in reference:\n",
    "                    reference_title = get_title_string(reference['container-title'])\n",
    "            if 'title'  in reference:\n",
    "                reference_title = reference['title']\n",
    "            if check_internal(reference['DOI'], reference_title) == None: #paper referenced is not in corpus\n",
    "                G.add_node(reference['DOI'], label = reference_title, type='paper_external')\n",
    "                G.add_edge(key,reference['DOI'])\n",
    "            else: #paper is in corpus but not yet identified\n",
    "                referenced_paper_key = check_internal(reference['DOI'], reference_title)\n",
    "                G.add_edge(key,referenced_paper_key)"
   ]
  },
  {
   "cell_type": "code",
   "execution_count": 7,
   "metadata": {},
   "outputs": [],
   "source": [
    "for paper in corpus: #add internal edges\n",
    "    for reference in paper._identified_references:\n",
    "        G.add_edge(paper.key, reference[0])"
   ]
  },
  {
   "cell_type": "code",
   "execution_count": 8,
   "metadata": {},
   "outputs": [
    {
     "name": "stdout",
     "output_type": "stream",
     "text": [
      "Nodes =  9618  Edges =  13654\n"
     ]
    }
   ],
   "source": [
    "G_nodes = G.number_of_nodes()\n",
    "G_edges = G.number_of_edges()\n",
    "print(\"Nodes = \", G_nodes, \" Edges = \",G_edges)"
   ]
  },
  {
   "cell_type": "code",
   "execution_count": 9,
   "metadata": {},
   "outputs": [],
   "source": [
    "nx.write_gexf(G, \"../data/citation_network.gexf\") #save for gephi"
   ]
  },
  {
   "cell_type": "code",
   "execution_count": null,
   "metadata": {},
   "outputs": [],
   "source": []
  }
 ],
 "metadata": {
  "kernelspec": {
   "display_name": "Python 3",
   "language": "python",
   "name": "python3"
  },
  "language_info": {
   "codemirror_mode": {
    "name": "ipython",
    "version": 3
   },
   "file_extension": ".py",
   "mimetype": "text/x-python",
   "name": "python",
   "nbconvert_exporter": "python",
   "pygments_lexer": "ipython3",
   "version": "3.6.13"
  }
 },
 "nbformat": 4,
 "nbformat_minor": 4
}
